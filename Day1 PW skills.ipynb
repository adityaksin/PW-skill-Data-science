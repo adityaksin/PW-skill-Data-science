{
 "cells": [
  {
   "cell_type": "code",
   "execution_count": null,
   "id": "7d5fab79-3fd6-4850-98b0-8b65492c9ed7",
   "metadata": {},
   "outputs": [],
   "source": []
  },
  {
   "cell_type": "code",
   "execution_count": 1,
   "id": "bccf971c-cca3-4348-a053-d0cda0508dc2",
   "metadata": {},
   "outputs": [],
   "source": [
    "a=10"
   ]
  },
  {
   "cell_type": "code",
   "execution_count": 3,
   "id": "c6fa21f9-cc4a-4387-b0f4-8a1ba241126b",
   "metadata": {},
   "outputs": [],
   "source": [
    "##THis is a comment"
   ]
  },
  {
   "cell_type": "code",
   "execution_count": 5,
   "id": "29ecef1d-6cee-43dc-b3e3-6b69789e02e0",
   "metadata": {},
   "outputs": [
    {
     "data": {
      "text/plain": [
       "20"
      ]
     },
     "execution_count": 5,
     "metadata": {},
     "output_type": "execute_result"
    }
   ],
   "source": [
    "\"\"\"\n",
    "This is a example of multiline comments\n",
    "\n",
    "\"\"\"\n",
    "a=20\n",
    "a"
   ]
  },
  {
   "cell_type": "code",
   "execution_count": 6,
   "id": "3d5fe46d-844e-42a0-bf4c-47537ce90399",
   "metadata": {},
   "outputs": [
    {
     "data": {
      "text/plain": [
       "4"
      ]
     },
     "execution_count": 6,
     "metadata": {},
     "output_type": "execute_result"
    }
   ],
   "source": [
    "1+3"
   ]
  },
  {
   "cell_type": "code",
   "execution_count": 8,
   "id": "5643be4f-f3aa-4322-aa2b-a120f3c0cbbd",
   "metadata": {},
   "outputs": [
    {
     "name": "stdout",
     "output_type": "stream",
     "text": [
      "My Name is Aditya and i work in \n",
      " Cognizant\n"
     ]
    }
   ],
   "source": [
    "print(\"My Name is Aditya and i work in \\n Cognizant\")"
   ]
  },
  {
   "cell_type": "code",
   "execution_count": null,
   "id": "fcdb74c6-0a8f-465d-a9de-5eb2822cebc1",
   "metadata": {},
   "outputs": [],
   "source": []
  },
  {
   "cell_type": "code",
   "execution_count": 7,
   "id": "4972c120-a1e4-4e5f-9c91-3ac7abaeca26",
   "metadata": {},
   "outputs": [
    {
     "name": "stdout",
     "output_type": "stream",
     "text": [
      "4\n"
     ]
    }
   ],
   "source": [
    "print(1+3)"
   ]
  },
  {
   "cell_type": "markdown",
   "id": "91ec0900-2fa8-4490-b2a1-b14ee48cd0b3",
   "metadata": {},
   "source": [
    "# Hello\n",
    "## Hello 2\n",
    "### Hello all\n",
    "#### Hello how are you all"
   ]
  },
  {
   "cell_type": "code",
   "execution_count": 9,
   "id": "dbeab51d-27b2-447c-91d8-51a22b84aff8",
   "metadata": {},
   "outputs": [],
   "source": [
    "Name =\"Aditya\"\n",
    "Company =\"Cognizant\""
   ]
  },
  {
   "cell_type": "code",
   "execution_count": 10,
   "id": "eeaa4e21-efaa-4d10-8f9c-fe6db08061f4",
   "metadata": {},
   "outputs": [
    {
     "data": {
      "text/plain": [
       "'Cognizant'"
      ]
     },
     "execution_count": 10,
     "metadata": {},
     "output_type": "execute_result"
    }
   ],
   "source": [
    "Company"
   ]
  },
  {
   "cell_type": "code",
   "execution_count": 11,
   "id": "30aff7ef-6638-4b68-b9cc-0b3a27cfa543",
   "metadata": {},
   "outputs": [
    {
     "data": {
      "text/plain": [
       "str"
      ]
     },
     "execution_count": 11,
     "metadata": {},
     "output_type": "execute_result"
    }
   ],
   "source": [
    "type(\"\")"
   ]
  },
  {
   "cell_type": "code",
   "execution_count": 13,
   "id": "6378cfce-36f6-4828-aac2-9171950702f3",
   "metadata": {},
   "outputs": [
    {
     "data": {
      "text/plain": [
       "str"
      ]
     },
     "execution_count": 13,
     "metadata": {},
     "output_type": "execute_result"
    }
   ],
   "source": [
    "type(Name)"
   ]
  },
  {
   "cell_type": "code",
   "execution_count": 14,
   "id": "60f3c859-7ace-4a71-86bc-e4da5525b0a7",
   "metadata": {},
   "outputs": [],
   "source": [
    "Decimal_Num=2.5"
   ]
  },
  {
   "cell_type": "code",
   "execution_count": 15,
   "id": "d31406cc-f62a-4a90-a504-1dd304ce96c6",
   "metadata": {},
   "outputs": [
    {
     "data": {
      "text/plain": [
       "2.5"
      ]
     },
     "execution_count": 15,
     "metadata": {},
     "output_type": "execute_result"
    }
   ],
   "source": [
    "Decimal_Num"
   ]
  },
  {
   "cell_type": "code",
   "execution_count": 16,
   "id": "e1f21d7e-0262-4ed1-994d-82d8192498a9",
   "metadata": {},
   "outputs": [
    {
     "data": {
      "text/plain": [
       "float"
      ]
     },
     "execution_count": 16,
     "metadata": {},
     "output_type": "execute_result"
    }
   ],
   "source": [
    "type(Decimal_Num)"
   ]
  },
  {
   "cell_type": "code",
   "execution_count": null,
   "id": "a808fad9-3274-4cd4-9c1b-b3613774698a",
   "metadata": {},
   "outputs": [],
   "source": [
    "#bad way\n",
    "##dont start a variable name with number\n",
    "1a\n",
    "1answers"
   ]
  },
  {
   "cell_type": "code",
   "execution_count": 17,
   "id": "2868c771-7299-480e-ab98-42e048b58888",
   "metadata": {},
   "outputs": [
    {
     "name": "stdout",
     "output_type": "stream",
     "text": [
      "Microsoft\n",
      "Cognizant\n"
     ]
    }
   ],
   "source": [
    "# Valiable is case sensitive\n",
    "Company=\"Microsoft\"\n",
    "company=\"Cognizant\"\n",
    "print(Company)\n",
    "print(company)"
   ]
  },
  {
   "cell_type": "code",
   "execution_count": null,
   "id": "d6b2f034-4ff7-4a3f-a54b-22cfeda9160d",
   "metadata": {},
   "outputs": [],
   "source": [
    "\"\"\"\n",
    "Keywords int ,float,complex ....\n",
    "\"\"\""
   ]
  },
  {
   "cell_type": "code",
   "execution_count": 18,
   "id": "fd18ce07-4fd0-422b-b949-41d77331cf89",
   "metadata": {},
   "outputs": [
    {
     "data": {
      "text/plain": [
       "True"
      ]
     },
     "execution_count": 18,
     "metadata": {},
     "output_type": "execute_result"
    }
   ],
   "source": [
    "#Boolean\n",
    "True"
   ]
  },
  {
   "cell_type": "code",
   "execution_count": 19,
   "id": "53604748-4cb8-405d-9ed9-e7b9cbb3e931",
   "metadata": {},
   "outputs": [
    {
     "data": {
      "text/plain": [
       "False"
      ]
     },
     "execution_count": 19,
     "metadata": {},
     "output_type": "execute_result"
    }
   ],
   "source": [
    "False"
   ]
  },
  {
   "cell_type": "code",
   "execution_count": 20,
   "id": "ed52cfff-0ec2-4666-ae25-2afb1cd14509",
   "metadata": {},
   "outputs": [
    {
     "data": {
      "text/plain": [
       "False"
      ]
     },
     "execution_count": 20,
     "metadata": {},
     "output_type": "execute_result"
    }
   ],
   "source": [
    "True and False"
   ]
  },
  {
   "cell_type": "code",
   "execution_count": 21,
   "id": "aa4fe34c-6ca5-44d4-b5f1-51423f7e5112",
   "metadata": {},
   "outputs": [
    {
     "data": {
      "text/plain": [
       "True"
      ]
     },
     "execution_count": 21,
     "metadata": {},
     "output_type": "execute_result"
    }
   ],
   "source": [
    "True or False"
   ]
  },
  {
   "cell_type": "code",
   "execution_count": 22,
   "id": "7b3722aa-5847-4492-88c6-0107d592ef02",
   "metadata": {},
   "outputs": [
    {
     "data": {
      "text/plain": [
       "False"
      ]
     },
     "execution_count": 22,
     "metadata": {},
     "output_type": "execute_result"
    }
   ],
   "source": [
    "not True"
   ]
  },
  {
   "cell_type": "code",
   "execution_count": 23,
   "id": "0e1ae4b7-508a-4e05-8b17-52a3680e2aaa",
   "metadata": {},
   "outputs": [
    {
     "data": {
      "text/plain": [
       "True"
      ]
     },
     "execution_count": 23,
     "metadata": {},
     "output_type": "execute_result"
    }
   ],
   "source": [
    "not False"
   ]
  },
  {
   "cell_type": "code",
   "execution_count": 24,
   "id": "38148f82-0111-4004-a2ec-a5465291ad84",
   "metadata": {},
   "outputs": [
    {
     "data": {
      "text/plain": [
       "False"
      ]
     },
     "execution_count": 24,
     "metadata": {},
     "output_type": "execute_result"
    }
   ],
   "source": [
    "bool(0)"
   ]
  },
  {
   "cell_type": "code",
   "execution_count": 25,
   "id": "b815de73-d1dd-46ab-81a0-3aa98edccfc3",
   "metadata": {},
   "outputs": [
    {
     "data": {
      "text/plain": [
       "True"
      ]
     },
     "execution_count": 25,
     "metadata": {},
     "output_type": "execute_result"
    }
   ],
   "source": [
    "bool(1)"
   ]
  },
  {
   "cell_type": "code",
   "execution_count": 28,
   "id": "8865524e-a11f-42aa-b84c-ba9c13b62ebb",
   "metadata": {},
   "outputs": [
    {
     "ename": "IndentationError",
     "evalue": "unexpected indent (2533733730.py, line 4)",
     "output_type": "error",
     "traceback": [
      "\u001b[0;36m  Cell \u001b[0;32mIn[28], line 4\u001b[0;36m\u001b[0m\n\u001b[0;31m    print(\"True\")\u001b[0m\n\u001b[0m    ^\u001b[0m\n\u001b[0;31mIndentationError\u001b[0m\u001b[0;31m:\u001b[0m unexpected indent\n"
     ]
    }
   ],
   "source": [
    "a=1\n",
    "bool(a)==True\n",
    "\n",
    "    print(\"True\")"
   ]
  },
  {
   "cell_type": "markdown",
   "id": "f369fd10-ad05-4870-878d-eec9510ca664",
   "metadata": {},
   "source": [
    "# Dynamic Typing"
   ]
  },
  {
   "cell_type": "code",
   "execution_count": 30,
   "id": "d5854803-dd0d-4b70-926d-b219f46be1af",
   "metadata": {},
   "outputs": [],
   "source": [
    "a=12\n",
    "str1=\"Krish\"\n",
    "a=\"var\""
   ]
  },
  {
   "cell_type": "code",
   "execution_count": 31,
   "id": "7e83e1b1-6709-4863-96f0-955b1a9a406d",
   "metadata": {},
   "outputs": [
    {
     "name": "stdout",
     "output_type": "stream",
     "text": [
      "<class 'str'>\n"
     ]
    }
   ],
   "source": [
    "print(type(a))"
   ]
  },
  {
   "cell_type": "code",
   "execution_count": 32,
   "id": "2c6e5f93-2834-4ad0-a6ee-ae96e6fca7c6",
   "metadata": {},
   "outputs": [],
   "source": [
    "# Concatenation between diffrent types"
   ]
  },
  {
   "cell_type": "code",
   "execution_count": 33,
   "id": "3e97987f-7c6d-46d1-8598-7c37ae18fb0e",
   "metadata": {},
   "outputs": [
    {
     "ename": "TypeError",
     "evalue": "unsupported operand type(s) for +: 'int' and 'str'",
     "output_type": "error",
     "traceback": [
      "\u001b[0;31m---------------------------------------------------------------------------\u001b[0m",
      "\u001b[0;31mTypeError\u001b[0m                                 Traceback (most recent call last)",
      "Cell \u001b[0;32mIn[33], line 1\u001b[0m\n\u001b[0;32m----> 1\u001b[0m \u001b[38;5;28;43mint\u001b[39;49m\u001b[43m(\u001b[49m\u001b[38;5;124;43m\"\u001b[39;49m\u001b[38;5;124;43m1\u001b[39;49m\u001b[38;5;124;43m\"\u001b[39;49m\u001b[43m)\u001b[49m\u001b[38;5;241;43m+\u001b[39;49m\u001b[38;5;124;43m\"\u001b[39;49m\u001b[38;5;124;43m1\u001b[39;49m\u001b[38;5;124;43m\"\u001b[39;49m\n",
      "\u001b[0;31mTypeError\u001b[0m: unsupported operand type(s) for +: 'int' and 'str'"
     ]
    }
   ],
   "source": [
    "int(\"1\")+\"1\""
   ]
  }
 ],
 "metadata": {
  "kernelspec": {
   "display_name": "Python 3 (ipykernel)",
   "language": "python",
   "name": "python3"
  },
  "language_info": {
   "codemirror_mode": {
    "name": "ipython",
    "version": 3
   },
   "file_extension": ".py",
   "mimetype": "text/x-python",
   "name": "python",
   "nbconvert_exporter": "python",
   "pygments_lexer": "ipython3",
   "version": "3.10.8"
  }
 },
 "nbformat": 4,
 "nbformat_minor": 5
}
